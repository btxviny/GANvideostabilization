{
 "cells": [
  {
   "cell_type": "code",
   "execution_count": 1,
   "metadata": {},
   "outputs": [],
   "source": [
    "import tensorflow as tf \n",
    "import numpy as np\n",
    "from utils import *\n",
    "from DataGenerator import DataGenerator\n",
    "import matplotlib.pyplot as plt"
   ]
  },
  {
   "cell_type": "code",
   "execution_count": 2,
   "metadata": {},
   "outputs": [],
   "source": [
    "#create training dataset\n",
    "path = 'D:/Files/Datasets/DeepStab Dataset/'\n",
    "data_generator = DataGenerator(path,(256,256,3),5,6)\n",
    "\n",
    "output_signature = (tf.TensorSpec(shape = (None, None, 5), dtype = tf.float32),\n",
    "                    tf.TensorSpec(shape = (None, None, 3), dtype = tf.float32),\n",
    "                    tf.TensorSpec(shape = (None, None, 3), dtype = tf.float32)\n",
    "                    )\n",
    "train_ds = tf.data.Dataset.from_generator(data_generator,\n",
    "                                          output_signature = output_signature)\n",
    "AUTOTUNE = tf.data.AUTOTUNE\n",
    "train_ds = train_ds.batch(1)\n",
    "train_ds = train_ds.cache('./Cache/').prefetch(buffer_size = AUTOTUNE)"
   ]
  },
  {
   "cell_type": "code",
   "execution_count": 3,
   "metadata": {},
   "outputs": [
    {
     "name": "stdout",
     "output_type": "stream",
     "text": [
      "Building STN Localization Network\n",
      "Building STN Localization Network\n",
      "Building STN Localization Network\n",
      "Building STN Localization Network\n",
      "Building STN Localization Network\n",
      "Model: \"model\"\n",
      "__________________________________________________________________________________________________\n",
      " Layer (type)                   Output Shape         Param #     Connected to                     \n",
      "==================================================================================================\n",
      " input_2 (InputLayer)           [(None, 256, 256, 3  0           []                               \n",
      "                                )]                                                                \n",
      "                                                                                                  \n",
      " input_1 (InputLayer)           [(None, 256, 256, 5  0           []                               \n",
      "                                )]                                                                \n",
      "                                                                                                  \n",
      " concatenate (Concatenate)      (None, 256, 256, 8)  0           ['input_1[0][0]',                \n",
      "                                                                  'input_2[0][0]']                \n",
      "                                                                                                  \n",
      " localization (Localization)    (None, 2, 3)         457762      ['concatenate[0][0]']            \n",
      "                                                                                                  \n",
      " bilinear_interpolation (Biline  (None, 256, 256, 3)  0          ['input_2[0][0]',                \n",
      " arInterpolation)                                                 'localization[0][0]']           \n",
      "                                                                                                  \n",
      " conv_10 (Conv2D)               (None, 256, 256, 64  4864        ['bilinear_interpolation[0][0]'] \n",
      "                                )                                                                 \n",
      "                                                                                                  \n",
      " conv_11 (Conv2D)               (None, 256, 256, 64  8064        ['input_1[0][0]']                \n",
      "                                )                                                                 \n",
      "                                                                                                  \n",
      " leaky_re_lu (LeakyReLU)        (None, 256, 256, 64  0           ['conv_10[0][0]']                \n",
      "                                )                                                                 \n",
      "                                                                                                  \n",
      " leaky_re_lu_1 (LeakyReLU)      (None, 256, 256, 64  0           ['conv_11[0][0]']                \n",
      "                                )                                                                 \n",
      "                                                                                                  \n",
      " max_pooling2d_2 (MaxPooling2D)  (None, 128, 128, 64  0          ['leaky_re_lu[0][0]']            \n",
      "                                )                                                                 \n",
      "                                                                                                  \n",
      " max_pooling2d_3 (MaxPooling2D)  (None, 128, 128, 64  0          ['leaky_re_lu_1[0][0]']          \n",
      "                                )                                                                 \n",
      "                                                                                                  \n",
      " concatenate_1 (Concatenate)    (None, 128, 128, 12  0           ['max_pooling2d_2[0][0]',        \n",
      "                                8)                                'max_pooling2d_3[0][0]']        \n",
      "                                                                                                  \n",
      " localization_1 (Localization)  (None, 2, 3)         160162      ['concatenate_1[0][0]']          \n",
      "                                                                                                  \n",
      " bilinear_interpolation_1 (Bili  (None, 128, 128, 64  0          ['max_pooling2d_2[0][0]',        \n",
      " nearInterpolation)             )                                 'localization_1[0][0]']         \n",
      "                                                                                                  \n",
      " conv_20 (Conv2D)               (None, 128, 128, 12  204928      ['bilinear_interpolation_1[0][0]'\n",
      "                                8)                               ]                                \n",
      "                                                                                                  \n",
      " conv_21 (Conv2D)               (None, 128, 128, 12  204928      ['max_pooling2d_3[0][0]']        \n",
      "                                8)                                                                \n",
      "                                                                                                  \n",
      " leaky_re_lu_2 (LeakyReLU)      (None, 128, 128, 12  0           ['conv_20[0][0]']                \n",
      "                                8)                                                                \n",
      "                                                                                                  \n",
      " leaky_re_lu_3 (LeakyReLU)      (None, 128, 128, 12  0           ['conv_21[0][0]']                \n",
      "                                8)                                                                \n",
      "                                                                                                  \n",
      " max_pooling2d_6 (MaxPooling2D)  (None, 64, 64, 128)  0          ['leaky_re_lu_2[0][0]']          \n",
      "                                                                                                  \n",
      " max_pooling2d_7 (MaxPooling2D)  (None, 64, 64, 128)  0          ['leaky_re_lu_3[0][0]']          \n",
      "                                                                                                  \n",
      " concatenate_2 (Concatenate)    (None, 64, 64, 256)  0           ['max_pooling2d_6[0][0]',        \n",
      "                                                                  'max_pooling2d_7[0][0]']        \n",
      "                                                                                                  \n",
      " localization_2 (Localization)  (None, 2, 3)         130722      ['concatenate_2[0][0]']          \n",
      "                                                                                                  \n",
      " bilinear_interpolation_2 (Bili  (None, 64, 64, 128)  0          ['max_pooling2d_6[0][0]',        \n",
      " nearInterpolation)                                               'localization_2[0][0]']         \n",
      "                                                                                                  \n",
      " conv_30 (Conv2D)               (None, 64, 64, 256)  819456      ['bilinear_interpolation_2[0][0]'\n",
      "                                                                 ]                                \n",
      "                                                                                                  \n",
      " conv_31 (Conv2D)               (None, 64, 64, 256)  819456      ['max_pooling2d_7[0][0]']        \n",
      "                                                                                                  \n",
      " leaky_re_lu_4 (LeakyReLU)      (None, 64, 64, 256)  0           ['conv_30[0][0]']                \n",
      "                                                                                                  \n",
      " leaky_re_lu_5 (LeakyReLU)      (None, 64, 64, 256)  0           ['conv_31[0][0]']                \n",
      "                                                                                                  \n",
      " max_pooling2d_10 (MaxPooling2D  (None, 32, 32, 256)  0          ['leaky_re_lu_4[0][0]']          \n",
      " )                                                                                                \n",
      "                                                                                                  \n",
      " max_pooling2d_11 (MaxPooling2D  (None, 32, 32, 256)  0          ['leaky_re_lu_5[0][0]']          \n",
      " )                                                                                                \n",
      "                                                                                                  \n",
      " concatenate_3 (Concatenate)    (None, 32, 32, 512)  0           ['max_pooling2d_10[0][0]',       \n",
      "                                                                  'max_pooling2d_11[0][0]']       \n",
      "                                                                                                  \n",
      " localization_3 (Localization)  (None, 2, 3)         215842      ['concatenate_3[0][0]']          \n",
      "                                                                                                  \n",
      " bilinear_interpolation_3 (Bili  (None, 32, 32, 256)  0          ['max_pooling2d_10[0][0]',       \n",
      " nearInterpolation)                                               'localization_3[0][0]']         \n",
      "                                                                                                  \n",
      " conv_40 (Conv2D)               (None, 32, 32, 512)  3277312     ['bilinear_interpolation_3[0][0]'\n",
      "                                                                 ]                                \n",
      "                                                                                                  \n",
      " conv_41 (Conv2D)               (None, 32, 32, 512)  3277312     ['max_pooling2d_11[0][0]']       \n",
      "                                                                                                  \n",
      " leaky_re_lu_6 (LeakyReLU)      (None, 32, 32, 512)  0           ['conv_40[0][0]']                \n",
      "                                                                                                  \n",
      " leaky_re_lu_7 (LeakyReLU)      (None, 32, 32, 512)  0           ['conv_41[0][0]']                \n",
      "                                                                                                  \n",
      " max_pooling2d_14 (MaxPooling2D  (None, 16, 16, 512)  0          ['leaky_re_lu_6[0][0]']          \n",
      " )                                                                                                \n",
      "                                                                                                  \n",
      " max_pooling2d_15 (MaxPooling2D  (None, 16, 16, 512)  0          ['leaky_re_lu_7[0][0]']          \n",
      " )                                                                                                \n",
      "                                                                                                  \n",
      " concatenate_4 (Concatenate)    (None, 16, 16, 1024  0           ['max_pooling2d_14[0][0]',       \n",
      "                                )                                 'max_pooling2d_15[0][0]']       \n",
      "                                                                                                  \n",
      " localization_4 (Localization)  (None, 2, 3)         417762      ['concatenate_4[0][0]']          \n",
      "                                                                                                  \n",
      " bilinear_interpolation_4 (Bili  (None, 16, 16, 512)  0          ['max_pooling2d_14[0][0]',       \n",
      " nearInterpolation)                                               'localization_4[0][0]']         \n",
      "                                                                                                  \n",
      " conv_5 (Conv2D)                (None, 16, 16, 512)  6554112     ['bilinear_interpolation_4[0][0]'\n",
      "                                                                 ]                                \n",
      "                                                                                                  \n",
      " leaky_re_lu_8 (LeakyReLU)      (None, 16, 16, 512)  0           ['conv_5[0][0]']                 \n",
      "                                                                                                  \n",
      " max_pooling2d_18 (MaxPooling2D  (None, 8, 8, 512)   0           ['leaky_re_lu_8[0][0]']          \n",
      " )                                                                                                \n",
      "                                                                                                  \n",
      " conv_6 (Conv2D)                (None, 8, 8, 512)    6554112     ['max_pooling2d_18[0][0]']       \n",
      "                                                                                                  \n",
      " leaky_re_lu_9 (LeakyReLU)      (None, 8, 8, 512)    0           ['conv_6[0][0]']                 \n",
      "                                                                                                  \n",
      " max_pooling2d_19 (MaxPooling2D  (None, 4, 4, 512)   0           ['leaky_re_lu_9[0][0]']          \n",
      " )                                                                                                \n",
      "                                                                                                  \n",
      " conv_7 (Conv2D)                (None, 4, 4, 512)    6554112     ['max_pooling2d_19[0][0]']       \n",
      "                                                                                                  \n",
      " leaky_re_lu_10 (LeakyReLU)     (None, 4, 4, 512)    0           ['conv_7[0][0]']                 \n",
      "                                                                                                  \n",
      " max_pooling2d_20 (MaxPooling2D  (None, 2, 2, 512)   0           ['leaky_re_lu_10[0][0]']         \n",
      " )                                                                                                \n",
      "                                                                                                  \n",
      " up_sampling2d (UpSampling2D)   (None, 4, 4, 512)    0           ['max_pooling2d_20[0][0]']       \n",
      "                                                                                                  \n",
      " concatenate_5 (Concatenate)    (None, 4, 4, 1024)   0           ['up_sampling2d[0][0]',          \n",
      "                                                                  'max_pooling2d_19[0][0]']       \n",
      "                                                                                                  \n",
      " deconv_1 (Conv2D)              (None, 4, 4, 1024)   26215424    ['concatenate_5[0][0]']          \n",
      "                                                                                                  \n",
      " up_sampling2d_1 (UpSampling2D)  (None, 8, 8, 1024)  0           ['deconv_1[0][0]']               \n",
      "                                                                                                  \n",
      " concatenate_6 (Concatenate)    (None, 8, 8, 1536)   0           ['up_sampling2d_1[0][0]',        \n",
      "                                                                  'max_pooling2d_18[0][0]']       \n",
      "                                                                                                  \n",
      " deconv_2 (Conv2D)              (None, 8, 8, 512)    19661312    ['concatenate_6[0][0]']          \n",
      "                                                                                                  \n",
      " up_sampling2d_2 (UpSampling2D)  (None, 16, 16, 512)  0          ['deconv_2[0][0]']               \n",
      "                                                                                                  \n",
      " concatenate_7 (Concatenate)    (None, 16, 16, 1024  0           ['up_sampling2d_2[0][0]',        \n",
      "                                )                                 'max_pooling2d_14[0][0]']       \n",
      "                                                                                                  \n",
      " deconv_3 (Conv2D)              (None, 16, 16, 512)  13107712    ['concatenate_7[0][0]']          \n",
      "                                                                                                  \n",
      " up_sampling2d_3 (UpSampling2D)  (None, 32, 32, 512)  0          ['deconv_3[0][0]']               \n",
      "                                                                                                  \n",
      " concatenate_8 (Concatenate)    (None, 32, 32, 768)  0           ['up_sampling2d_3[0][0]',        \n",
      "                                                                  'max_pooling2d_10[0][0]']       \n",
      "                                                                                                  \n",
      " deconv_4 (Conv2D)              (None, 32, 32, 256)  4915456     ['concatenate_8[0][0]']          \n",
      "                                                                                                  \n",
      " up_sampling2d_4 (UpSampling2D)  (None, 64, 64, 256)  0          ['deconv_4[0][0]']               \n",
      "                                                                                                  \n",
      " concatenate_9 (Concatenate)    (None, 64, 64, 384)  0           ['up_sampling2d_4[0][0]',        \n",
      "                                                                  'max_pooling2d_6[0][0]']        \n",
      "                                                                                                  \n",
      " deconv_5 (Conv2D)              (None, 64, 64, 128)  1228928     ['concatenate_9[0][0]']          \n",
      "                                                                                                  \n",
      " up_sampling2d_5 (UpSampling2D)  (None, 128, 128, 12  0          ['deconv_5[0][0]']               \n",
      "                                8)                                                                \n",
      "                                                                                                  \n",
      " concatenate_10 (Concatenate)   (None, 128, 128, 19  0           ['up_sampling2d_5[0][0]',        \n",
      "                                2)                                'max_pooling2d_2[0][0]']        \n",
      "                                                                                                  \n",
      " deconv_6 (Conv2D)              (None, 128, 128, 64  307264      ['concatenate_10[0][0]']         \n",
      "                                )                                                                 \n",
      "                                                                                                  \n",
      " up_sampling2d_6 (UpSampling2D)  (None, 256, 256, 64  0          ['deconv_6[0][0]']               \n",
      "                                )                                                                 \n",
      "                                                                                                  \n",
      " out (Conv2D)                   (None, 256, 256, 3)  4803        ['up_sampling2d_6[0][0]']        \n",
      "                                                                                                  \n",
      "==================================================================================================\n",
      "Total params: 95,101,805\n",
      "Trainable params: 95,101,805\n",
      "Non-trainable params: 0\n",
      "__________________________________________________________________________________________________\n"
     ]
    }
   ],
   "source": [
    "generator = build_generator()\n",
    "d1 = build_discriminator((256,256,8))\n",
    "d2 = build_discriminator((256,256,18))\n",
    "generator.summary()"
   ]
  },
  {
   "cell_type": "code",
   "execution_count": 4,
   "metadata": {},
   "outputs": [],
   "source": [
    "from DCGAN import GAN\n",
    "initialA = tf.zeros(shape = (1,256,256,15), dtype=tf.float32)\n",
    "gan = GAN(d1 ,d2 , generator, initialA)"
   ]
  },
  {
   "cell_type": "code",
   "execution_count": 5,
   "metadata": {},
   "outputs": [],
   "source": [
    "generator_optimizer = tf.keras.optimizers.Adam(2e-4, beta_1= 0.5, beta_2=0.999)\n",
    "d1_optimizer = tf.keras.optimizers.Adam(2e-4, beta_1= 0.5, beta_2=0.999)\n",
    "d2_optimizer = tf.keras.optimizers.Adam(2e-4, beta_1= 0.5, beta_2=0.999)\n",
    "\n",
    "gan.compile(d1_optimizer, d2_optimizer, generator_optimizer)"
   ]
  },
  {
   "cell_type": "code",
   "execution_count": 6,
   "metadata": {},
   "outputs": [
    {
     "data": {
      "text/plain": [
       "<matplotlib.image.AxesImage at 0x246f1ffc050>"
      ]
     },
     "execution_count": 6,
     "metadata": {},
     "output_type": "execute_result"
    },
    {
     "data": {
      "image/png": "[encoded data removed]",
      "text/plain": [
       "<Figure size 640x480 with 1 Axes>"
      ]
     },
     "metadata": {},
     "output_type": "display_data"
    }
   ],
   "source": [
    "s , It, Igt = next(data_generator())\n",
    "s = np.expand_dims(s,0)\n",
    "It = np.expand_dims(It,0)\n",
    "generated_frame,_ = generator([s,It])\n",
    "img = np.array(generated_frame[0,...],dtype = np.uint8)\n",
    "plt.imshow(img)"
   ]
  },
  {
   "cell_type": "code",
   "execution_count": null,
   "metadata": {},
   "outputs": [
    {
     "data": {
      "text/plain": [
       "TensorShape([1, 256, 256, 3])"
      ]
     },
     "execution_count": 8,
     "metadata": {},
     "output_type": "execute_result"
    }
   ],
   "source": [
    "generated_frame.shape"
   ]
  },
  {
   "cell_type": "code",
   "execution_count": null,
   "metadata": {},
   "outputs": [],
   "source": [
    "img = generated_frame.numpy()\n",
    "img = np.squeeze(img , axis = 0 )"
   ]
  },
  {
   "cell_type": "code",
   "execution_count": null,
   "metadata": {},
   "outputs": [
    {
     "data": {
      "text/plain": [
       "(256, 256, 3)"
      ]
     },
     "execution_count": 11,
     "metadata": {},
     "output_type": "execute_result"
    }
   ],
   "source": [
    "img.shape"
   ]
  },
  {
   "cell_type": "code",
   "execution_count": null,
   "metadata": {},
   "outputs": [],
   "source": []
  }
 ],
 "metadata": {
  "kernelspec": {
   "display_name": "cv",
   "language": "python",
   "name": "python3"
  },
  "language_info": {
   "codemirror_mode": {
    "name": "ipython",
    "version": 3
   },
   "file_extension": ".py",
   "mimetype": "text/x-python",
   "name": "python",
   "nbconvert_exporter": "python",
   "pygments_lexer": "ipython3",
   "version": "3.11.3"
  },
  "orig_nbformat": 4
 },
 "nbformat": 4,
 "nbformat_minor": 2
}
